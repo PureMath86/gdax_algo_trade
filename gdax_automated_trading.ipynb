{
 "cells": [
  {
   "cell_type": "code",
   "execution_count": 2,
   "metadata": {
    "collapsed": false
   },
   "outputs": [],
   "source": [
    "import gdax\n",
    "import time\n",
    "from datetime import datetime\n",
    "import pandas as pd\n",
    "\n",
    "public_client = gdax.PublicClient()\n"
   ]
  },
  {
   "cell_type": "code",
   "execution_count": 2,
   "metadata": {
    "collapsed": false
   },
   "outputs": [],
   "source": [
    "# Get the order book at the default level.\n",
    "#public_client.get_product_order_book('BTC-GBP')\n",
    "# Get the order book at a specific level.\n",
    "#public_client.get_product_order_book('BTC-GBP', level=1)"
   ]
  },
  {
   "cell_type": "code",
   "execution_count": 3,
   "metadata": {
    "collapsed": false
   },
   "outputs": [
    {
     "data": {
      "text/plain": [
       "{'ask': '1995.6',\n",
       " 'bid': '1985.2',\n",
       " 'price': '1995.89000000',\n",
       " 'size': '0.01000000',\n",
       " 'time': '2017-07-08T23:15:00.312000Z',\n",
       " 'trade_id': 888568,\n",
       " 'volume': '114.41785776'}"
      ]
     },
     "execution_count": 3,
     "metadata": {},
     "output_type": "execute_result"
    }
   ],
   "source": [
    "# Get the product ticker for a specific product.\n",
    "public_client.get_product_ticker(product_id='BTC-GBP')\n"
   ]
  },
  {
   "cell_type": "code",
   "execution_count": 4,
   "metadata": {
    "collapsed": false
   },
   "outputs": [],
   "source": [
    "# Get the product trades for a specific product.\n",
    "#public_client.get_product_trades(product_id='BTC-GBP')\n"
   ]
  },
  {
   "cell_type": "code",
   "execution_count": 5,
   "metadata": {
    "collapsed": false
   },
   "outputs": [
    {
     "data": {
      "text/plain": [
       "[[1499553000, 1977.08, 1999.6, 1987, 1995.89, 3.08],\n",
       " [1499550000, 1987, 1993.22, 1992.26, 1987, 0.781]]"
      ]
     },
     "execution_count": 5,
     "metadata": {},
     "output_type": "execute_result"
    }
   ],
   "source": [
    "public_client.get_product_historic_rates('BTC-GBP')\n",
    "# To include other parameters, see function docstring:\n",
    "public_client.get_product_historic_rates('BTC-GBP', granularity=3000)"
   ]
  },
  {
   "cell_type": "code",
   "execution_count": 10,
   "metadata": {
    "collapsed": false
   },
   "outputs": [],
   "source": [
    "login = pd.read_csv(r'C:\\dev\\gdax\\login.txt')\n",
    "auth_client = gdax.AuthenticatedClient(login[\"BLANK LINE\"][1], login[\"BLANK LINE\"][2], login[\"BLANK LINE\"][0])\n"
   ]
  },
  {
   "cell_type": "code",
   "execution_count": 32,
   "metadata": {
    "collapsed": false
   },
   "outputs": [],
   "source": [
    "def placeBuyOrSellOrder():\n",
    "\n",
    "    running = input\n",
    "    \n",
    "    # define fiat account\n",
    "    gbp_acc = auth_client.get_account(login[\"BLANK LINE\"][3])\n",
    "    \n",
    "    # define cyrpto account\n",
    "    btc_acc = auth_client.get_account(login[\"BLANK LINE\"][4])\n",
    "    \n",
    "    # get market price\n",
    "    latest_price = float(public_client.get_product_ticker(product_id='BTC-GBP')[\"price\"])\n",
    "\n",
    "    # get market prices\n",
    "    price_ask = float(public_client.get_product_ticker(product_id='BTC-GBP')[\"ask\"])\n",
    "    price_bid = float(public_client.get_product_ticker(product_id='BTC-GBP')[\"bid\"])\n",
    "    mid_market = (price_ask+price_bid)*0.5\n",
    "    \n",
    "    # amount of crypto to trade\n",
    "    btc_trade_vol = 0.05\n",
    "    \n",
    "    # margin as factor before purchase for crypto reserve\n",
    "    btc_trade_margin = 1.0\n",
    "\n",
    "\n",
    "    # create buy price\n",
    "    max_buy_price = price_bid*0.9825\n",
    "    target_buy = str(round(min(max_buy_price,price_bid*0.9875),2))\n",
    "    \n",
    "    # create sell price\n",
    "    min_sell_price = price_ask*1.0125\n",
    "    target_sell = str(round(max(min_sell_price,price_bid*1.0125),2))\n",
    "    \n",
    "    # BUY if funds availble\n",
    "    if float(gbp_acc[\"available\"]) > latest_price*btc_trade_vol*btc_trade_margin:\n",
    "        \n",
    "        print('BUY order £' + target_buy + \" : Mid Market £\" +str(mid_market) + \" : \"+ str(datetime.now()))\n",
    "        \n",
    "        auth_client.buy(price=target_buy,\n",
    "               size=btc_trade_vol, #BTC\n",
    "               product_id='BTC-GBP')\n",
    "\n",
    "    # SELL if BTC availble\n",
    "    elif float(btc_acc[\"available\"]) > btc_trade_vol:\n",
    "        \n",
    "        print('SELL order ' + target_sell + \" : Bid Market £\" +str(price_bid) + \" : \"+ str(datetime.now()))\n",
    "\n",
    "        auth_client.sell(price=target_sell,\n",
    "                         size=str(btc_trade_vol), #BTC\n",
    "                         product_id='BTC-GBP')\n",
    "            \n",
    "    else:\n",
    "        \n",
    "        time.sleep(30)\n",
    "                \n",
    "    \n",
    "\n",
    "        "
   ]
  },
  {
   "cell_type": "code",
   "execution_count": 33,
   "metadata": {
    "collapsed": false
   },
   "outputs": [
    {
     "name": "stdout",
     "output_type": "stream",
     "text": [
      "BUY order £1953.49 : Mid Market £1993.12 : 2017-07-09 00:30:44.562259\n",
      "BUY order £1953.49 : Mid Market £1992.96 : 2017-07-09 00:31:19.983794\n"
     ]
    },
    {
     "ename": "KeyboardInterrupt",
     "evalue": "",
     "output_type": "error",
     "traceback": [
      "\u001b[0;31m---------------------------------------------------------------------------\u001b[0m",
      "\u001b[0;31mKeyboardInterrupt\u001b[0m                         Traceback (most recent call last)",
      "\u001b[0;32m<ipython-input-33-49ce7a3bfe0d>\u001b[0m in \u001b[0;36m<module>\u001b[0;34m()\u001b[0m\n\u001b[1;32m      1\u001b[0m \u001b[1;32mwhile\u001b[0m \u001b[1;36m1\u001b[0m\u001b[1;33m<\u001b[0m\u001b[1;36m2\u001b[0m\u001b[1;33m:\u001b[0m\u001b[1;33m\u001b[0m\u001b[0m\n\u001b[1;32m      2\u001b[0m     \u001b[0mplaceBuyOrSellOrder\u001b[0m\u001b[1;33m(\u001b[0m\u001b[1;33m)\u001b[0m\u001b[1;33m\u001b[0m\u001b[0m\n\u001b[0;32m----> 3\u001b[0;31m     \u001b[0mtime\u001b[0m\u001b[1;33m.\u001b[0m\u001b[0msleep\u001b[0m\u001b[1;33m(\u001b[0m\u001b[1;36m30\u001b[0m\u001b[1;33m)\u001b[0m\u001b[1;33m\u001b[0m\u001b[0m\n\u001b[0m",
      "\u001b[0;31mKeyboardInterrupt\u001b[0m: "
     ]
    }
   ],
   "source": [
    "while 1<2:\n",
    "    placeBuyOrSellOrder()\n",
    "    time.sleep(30)"
   ]
  }
 ],
 "metadata": {
  "anaconda-cloud": {},
  "kernelspec": {
   "display_name": "Python [conda root]",
   "language": "python",
   "name": "conda-root-py"
  },
  "language_info": {
   "codemirror_mode": {
    "name": "ipython",
    "version": 3
   },
   "file_extension": ".py",
   "mimetype": "text/x-python",
   "name": "python",
   "nbconvert_exporter": "python",
   "pygments_lexer": "ipython3",
   "version": "3.5.1"
  }
 },
 "nbformat": 4,
 "nbformat_minor": 2
}
